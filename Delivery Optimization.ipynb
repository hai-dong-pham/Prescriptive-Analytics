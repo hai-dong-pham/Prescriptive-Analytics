{
 "cells": [
  {
   "cell_type": "markdown",
   "metadata": {},
   "source": [
    "# **Delivery Optimization**\n",
    "---\n",
    "**Author:** Hai Pham"
   ]
  },
  {
   "cell_type": "markdown",
   "metadata": {},
   "source": [
    "## 1. Business Problem"
   ]
  },
  {
   "cell_type": "markdown",
   "metadata": {},
   "source": [
    "Given the boom in e-commerce, delivery service plays a vital part in creating competitive advantages and is key to minizing cost for businesses as well. E-commerce firms, whose thousands of warehouses are distributed nationwide, always want to minimize the distance to deliver goods from a warehouse to a customer. That being said, selecting which warehouse to take goods and deliver to a specific customer is the first thing to consider.\n",
    "\n",
    "With that idea in mind, I leverage Python to carry out delivery optimization from warehouses and customers. Due to the availability of data, I decided to choose Costco as a proxy for business with hundreds of warehouses and Starbuck stores as a sample of customers. These dataset were obtained from Kaggle.com."
   ]
  },
  {
   "cell_type": "markdown",
   "metadata": {},
   "source": [
    "## 2. Data Loading"
   ]
  },
  {
   "cell_type": "markdown",
   "metadata": {},
   "source": [
    "Let's get started with package import"
   ]
  },
  {
   "cell_type": "code",
   "execution_count": 1,
   "metadata": {},
   "outputs": [],
   "source": [
    "import pandas as pd\n",
    "from geopy import distance\n",
    "import numpy as np"
   ]
  },
  {
   "cell_type": "markdown",
   "metadata": {},
   "source": [
    "The data sets are obtained from Kaggle and then uploaded to dropbox so we can load it from url."
   ]
  },
  {
   "cell_type": "code",
   "execution_count": 2,
   "metadata": {},
   "outputs": [],
   "source": [
    "costco_data_url = 'https://www.dropbox.com/s/6ovgn14250jrlbm/costco_data.csv?dl=1'\n",
    "costco_dat = pd.read_csv(costco_data_url, na_values=np.NaN)\n",
    "\n",
    "starbuck_data_url = 'https://www.dropbox.com/s/yxsd7ii34iq863o/starbuck_data.csv?dl=1'\n",
    "starbuck_dat = pd.read_csv(starbuck_data_url, na_values=np.NaN)"
   ]
  },
  {
   "cell_type": "markdown",
   "metadata": {},
   "source": [
    "Get a general information of Costco dataset"
   ]
  },
  {
   "cell_type": "code",
   "execution_count": 3,
   "metadata": {},
   "outputs": [
    {
     "name": "stdout",
     "output_type": "stream",
     "text": [
      "<class 'pandas.core.frame.DataFrame'>\n",
      "RangeIndex: 782 entries, 0 to 781\n",
      "Data columns (total 37 columns):\n",
      " #   Column                    Non-Null Count  Dtype  \n",
      "---  ------                    --------------  -----  \n",
      " 0   Unnamed: 0                782 non-null    int64  \n",
      " 1   stlocID                   782 non-null    int64  \n",
      " 2   phone                     734 non-null    object \n",
      " 3   fax                       0 non-null      float64\n",
      " 4   address1                  782 non-null    object \n",
      " 5   city                      782 non-null    object \n",
      " 6   state                     750 non-null    object \n",
      " 7   country                   782 non-null    object \n",
      " 8   zipCode                   777 non-null    object \n",
      " 9   manager                   753 non-null    object \n",
      " 10  latitude                  782 non-null    float64\n",
      " 11  longitude                 782 non-null    float64\n",
      " 12  parentGeoNodeID           782 non-null    int64  \n",
      " 13  active                    782 non-null    int64  \n",
      " 14  languageID                782 non-null    int64  \n",
      " 15  hasGasDepartment          782 non-null    bool   \n",
      " 16  hasTiresDepartment        782 non-null    bool   \n",
      " 17  hasFoodDepartment         782 non-null    bool   \n",
      " 18  hasHearingDepartment      782 non-null    bool   \n",
      " 19  hasPharmacyDepartment     782 non-null    bool   \n",
      " 20  hasOpticalDepartment      782 non-null    bool   \n",
      " 21  hasBusinessDepartment     782 non-null    bool   \n",
      " 22  hasPhotoCenterDepartment  782 non-null    bool   \n",
      " 23  warehouseHours            782 non-null    object \n",
      " 24  pharmacyHours             782 non-null    object \n",
      " 25  upcomingHolidays          782 non-null    object \n",
      " 26  gasStationHours           782 non-null    object \n",
      " 27  tireCenterHours           782 non-null    object \n",
      " 28  gasPrices                 579 non-null    object \n",
      " 29  coreServices              782 non-null    object \n",
      " 30  specialtyDepartments      782 non-null    object \n",
      " 31  locationName              782 non-null    object \n",
      " 32  isShipToWarehouse         782 non-null    bool   \n",
      " 33  isWarehousePickup         782 non-null    bool   \n",
      " 34  enableShipToHome          782 non-null    bool   \n",
      " 35  isBusinessWarehouse       782 non-null    bool   \n",
      " 36  closeDate                 1 non-null      object \n",
      "dtypes: bool(12), float64(3), int64(5), object(17)\n",
      "memory usage: 162.0+ KB\n"
     ]
    },
    {
     "data": {
      "text/plain": [
       "(None,)"
      ]
     },
     "execution_count": 3,
     "metadata": {},
     "output_type": "execute_result"
    }
   ],
   "source": [
    "costco_dat.info(),"
   ]
  },
  {
   "cell_type": "markdown",
   "metadata": {},
   "source": [
    "We can see the Costco dataset includes 782 rows and 37 columns. Each row represents a Costco store and each column represents a feature of store.\n",
    "\n",
    "Take a look at the first 5 rows of this dataset."
   ]
  },
  {
   "cell_type": "code",
   "execution_count": 4,
   "metadata": {},
   "outputs": [
    {
     "data": {
      "text/html": [
       "<div>\n",
       "<style scoped>\n",
       "    .dataframe tbody tr th:only-of-type {\n",
       "        vertical-align: middle;\n",
       "    }\n",
       "\n",
       "    .dataframe tbody tr th {\n",
       "        vertical-align: top;\n",
       "    }\n",
       "\n",
       "    .dataframe thead th {\n",
       "        text-align: right;\n",
       "    }\n",
       "</style>\n",
       "<table border=\"1\" class=\"dataframe\">\n",
       "  <thead>\n",
       "    <tr style=\"text-align: right;\">\n",
       "      <th></th>\n",
       "      <th>Unnamed: 0</th>\n",
       "      <th>stlocID</th>\n",
       "      <th>phone</th>\n",
       "      <th>fax</th>\n",
       "      <th>address1</th>\n",
       "      <th>city</th>\n",
       "      <th>state</th>\n",
       "      <th>country</th>\n",
       "      <th>zipCode</th>\n",
       "      <th>manager</th>\n",
       "      <th>...</th>\n",
       "      <th>tireCenterHours</th>\n",
       "      <th>gasPrices</th>\n",
       "      <th>coreServices</th>\n",
       "      <th>specialtyDepartments</th>\n",
       "      <th>locationName</th>\n",
       "      <th>isShipToWarehouse</th>\n",
       "      <th>isWarehousePickup</th>\n",
       "      <th>enableShipToHome</th>\n",
       "      <th>isBusinessWarehouse</th>\n",
       "      <th>closeDate</th>\n",
       "    </tr>\n",
       "  </thead>\n",
       "  <tbody>\n",
       "    <tr>\n",
       "      <th>0</th>\n",
       "      <td>0</td>\n",
       "      <td>1</td>\n",
       "      <td>(206) 622-3136</td>\n",
       "      <td>NaN</td>\n",
       "      <td>4401 4TH AVE S</td>\n",
       "      <td>SEATTLE</td>\n",
       "      <td>WA</td>\n",
       "      <td>US</td>\n",
       "      <td>98134-2389</td>\n",
       "      <td>JOHN BARTLETT</td>\n",
       "      <td>...</td>\n",
       "      <td>[{'title': 'Mon-Fri.', 'code': 'open', 'time':...</td>\n",
       "      <td>{'warehouseid': '1', 'regular': '2.799', 'prem...</td>\n",
       "      <td>[{'name': 'Gas Station', 'localizedName': 'Gas...</td>\n",
       "      <td>[{'name': 'Auto Buying Program', 'localizedNam...</td>\n",
       "      <td>Seattle</td>\n",
       "      <td>True</td>\n",
       "      <td>True</td>\n",
       "      <td>False</td>\n",
       "      <td>False</td>\n",
       "      <td>NaN</td>\n",
       "    </tr>\n",
       "    <tr>\n",
       "      <th>1</th>\n",
       "      <td>1</td>\n",
       "      <td>2</td>\n",
       "      <td>(503) 252-2243</td>\n",
       "      <td>NaN</td>\n",
       "      <td>4849 NE 138TH AVE</td>\n",
       "      <td>PORTLAND</td>\n",
       "      <td>OR</td>\n",
       "      <td>US</td>\n",
       "      <td>97230-3401</td>\n",
       "      <td>GENE MORMON</td>\n",
       "      <td>...</td>\n",
       "      <td>[{'title': 'Mon-Fri.', 'code': 'open', 'time':...</td>\n",
       "      <td>{'warehouseid': '2', 'diesel': '2.899', 'regul...</td>\n",
       "      <td>[{'name': 'Gas Station', 'localizedName': 'Gas...</td>\n",
       "      <td>[{'name': 'ATM', 'localizedName': 'ATM', 'phon...</td>\n",
       "      <td>Portland</td>\n",
       "      <td>True</td>\n",
       "      <td>True</td>\n",
       "      <td>False</td>\n",
       "      <td>False</td>\n",
       "      <td>NaN</td>\n",
       "    </tr>\n",
       "    <tr>\n",
       "      <th>2</th>\n",
       "      <td>2</td>\n",
       "      <td>6</td>\n",
       "      <td>(206) 575-9191</td>\n",
       "      <td>NaN</td>\n",
       "      <td>400 COSTCO DR STE 150</td>\n",
       "      <td>TUKWILA</td>\n",
       "      <td>WA</td>\n",
       "      <td>US</td>\n",
       "      <td>98188-4808</td>\n",
       "      <td>TODD YOUNG</td>\n",
       "      <td>...</td>\n",
       "      <td>[{'title': 'Mon-Fri.', 'code': 'open', 'time':...</td>\n",
       "      <td>{'warehouseid': '6', 'diesel': '2.959', 'regul...</td>\n",
       "      <td>[{'name': 'Gas Station', 'localizedName': 'Gas...</td>\n",
       "      <td>[{'name': 'Auto Buying Program', 'localizedNam...</td>\n",
       "      <td>Tukwila</td>\n",
       "      <td>True</td>\n",
       "      <td>True</td>\n",
       "      <td>False</td>\n",
       "      <td>False</td>\n",
       "      <td>NaN</td>\n",
       "    </tr>\n",
       "    <tr>\n",
       "      <th>3</th>\n",
       "      <td>3</td>\n",
       "      <td>8</td>\n",
       "      <td>(425) 827-1693</td>\n",
       "      <td>NaN</td>\n",
       "      <td>8629 120TH AVE NE</td>\n",
       "      <td>KIRKLAND</td>\n",
       "      <td>WA</td>\n",
       "      <td>US</td>\n",
       "      <td>98033-5865</td>\n",
       "      <td>CHRIS DELONG</td>\n",
       "      <td>...</td>\n",
       "      <td>[{'title': 'Mon-Fri.', 'code': 'open', 'time':...</td>\n",
       "      <td>{'warehouseid': '8', 'regular': '2.739', 'prem...</td>\n",
       "      <td>[{'name': 'Gas Station', 'localizedName': 'Gas...</td>\n",
       "      <td>[{'name': 'Auto Buying Program', 'localizedNam...</td>\n",
       "      <td>Kirkland</td>\n",
       "      <td>True</td>\n",
       "      <td>True</td>\n",
       "      <td>False</td>\n",
       "      <td>False</td>\n",
       "      <td>NaN</td>\n",
       "    </tr>\n",
       "    <tr>\n",
       "      <th>4</th>\n",
       "      <td>4</td>\n",
       "      <td>9</td>\n",
       "      <td>(503) 644-7615</td>\n",
       "      <td>NaN</td>\n",
       "      <td>15901 SW JENKINS RD</td>\n",
       "      <td>ALOHA</td>\n",
       "      <td>OR</td>\n",
       "      <td>US</td>\n",
       "      <td>97006-5098</td>\n",
       "      <td>ALEX RYAN</td>\n",
       "      <td>...</td>\n",
       "      <td>[{'title': 'Mon-Fri.', 'code': 'open', 'time':...</td>\n",
       "      <td>{'warehouseid': '9', 'regular': '2.759', 'prem...</td>\n",
       "      <td>[{'name': 'Gas Station', 'localizedName': 'Gas...</td>\n",
       "      <td>[{'name': 'Auto Buying Program', 'localizedNam...</td>\n",
       "      <td>Aloha</td>\n",
       "      <td>True</td>\n",
       "      <td>True</td>\n",
       "      <td>False</td>\n",
       "      <td>False</td>\n",
       "      <td>NaN</td>\n",
       "    </tr>\n",
       "  </tbody>\n",
       "</table>\n",
       "<p>5 rows × 37 columns</p>\n",
       "</div>"
      ],
      "text/plain": [
       "   Unnamed: 0  stlocID           phone  fax               address1      city  \\\n",
       "0           0        1  (206) 622-3136  NaN         4401 4TH AVE S   SEATTLE   \n",
       "1           1        2  (503) 252-2243  NaN      4849 NE 138TH AVE  PORTLAND   \n",
       "2           2        6  (206) 575-9191  NaN  400 COSTCO DR STE 150   TUKWILA   \n",
       "3           3        8  (425) 827-1693  NaN      8629 120TH AVE NE  KIRKLAND   \n",
       "4           4        9  (503) 644-7615  NaN    15901 SW JENKINS RD     ALOHA   \n",
       "\n",
       "  state country     zipCode        manager  ...  \\\n",
       "0    WA      US  98134-2389  JOHN BARTLETT  ...   \n",
       "1    OR      US  97230-3401    GENE MORMON  ...   \n",
       "2    WA      US  98188-4808     TODD YOUNG  ...   \n",
       "3    WA      US  98033-5865   CHRIS DELONG  ...   \n",
       "4    OR      US  97006-5098      ALEX RYAN  ...   \n",
       "\n",
       "                                     tireCenterHours  \\\n",
       "0  [{'title': 'Mon-Fri.', 'code': 'open', 'time':...   \n",
       "1  [{'title': 'Mon-Fri.', 'code': 'open', 'time':...   \n",
       "2  [{'title': 'Mon-Fri.', 'code': 'open', 'time':...   \n",
       "3  [{'title': 'Mon-Fri.', 'code': 'open', 'time':...   \n",
       "4  [{'title': 'Mon-Fri.', 'code': 'open', 'time':...   \n",
       "\n",
       "                                           gasPrices  \\\n",
       "0  {'warehouseid': '1', 'regular': '2.799', 'prem...   \n",
       "1  {'warehouseid': '2', 'diesel': '2.899', 'regul...   \n",
       "2  {'warehouseid': '6', 'diesel': '2.959', 'regul...   \n",
       "3  {'warehouseid': '8', 'regular': '2.739', 'prem...   \n",
       "4  {'warehouseid': '9', 'regular': '2.759', 'prem...   \n",
       "\n",
       "                                        coreServices  \\\n",
       "0  [{'name': 'Gas Station', 'localizedName': 'Gas...   \n",
       "1  [{'name': 'Gas Station', 'localizedName': 'Gas...   \n",
       "2  [{'name': 'Gas Station', 'localizedName': 'Gas...   \n",
       "3  [{'name': 'Gas Station', 'localizedName': 'Gas...   \n",
       "4  [{'name': 'Gas Station', 'localizedName': 'Gas...   \n",
       "\n",
       "                                specialtyDepartments  locationName  \\\n",
       "0  [{'name': 'Auto Buying Program', 'localizedNam...       Seattle   \n",
       "1  [{'name': 'ATM', 'localizedName': 'ATM', 'phon...      Portland   \n",
       "2  [{'name': 'Auto Buying Program', 'localizedNam...       Tukwila   \n",
       "3  [{'name': 'Auto Buying Program', 'localizedNam...      Kirkland   \n",
       "4  [{'name': 'Auto Buying Program', 'localizedNam...         Aloha   \n",
       "\n",
       "   isShipToWarehouse  isWarehousePickup  enableShipToHome  \\\n",
       "0               True               True             False   \n",
       "1               True               True             False   \n",
       "2               True               True             False   \n",
       "3               True               True             False   \n",
       "4               True               True             False   \n",
       "\n",
       "   isBusinessWarehouse  closeDate  \n",
       "0                False        NaN  \n",
       "1                False        NaN  \n",
       "2                False        NaN  \n",
       "3                False        NaN  \n",
       "4                False        NaN  \n",
       "\n",
       "[5 rows x 37 columns]"
      ]
     },
     "execution_count": 4,
     "metadata": {},
     "output_type": "execute_result"
    }
   ],
   "source": [
    "costco_dat.head()"
   ]
  },
  {
   "cell_type": "markdown",
   "metadata": {},
   "source": [
    "Get a general information of Starbuck dataset:"
   ]
  },
  {
   "cell_type": "code",
   "execution_count": 5,
   "metadata": {},
   "outputs": [
    {
     "name": "stdout",
     "output_type": "stream",
     "text": [
      "<class 'pandas.core.frame.DataFrame'>\n",
      "RangeIndex: 25600 entries, 0 to 25599\n",
      "Data columns (total 13 columns):\n",
      " #   Column          Non-Null Count  Dtype  \n",
      "---  ------          --------------  -----  \n",
      " 0   Brand           25600 non-null  object \n",
      " 1   Store Number    25600 non-null  object \n",
      " 2   Store Name      25600 non-null  object \n",
      " 3   Ownership Type  25600 non-null  object \n",
      " 4   Street Address  25598 non-null  object \n",
      " 5   City            25585 non-null  object \n",
      " 6   State/Province  25600 non-null  object \n",
      " 7   Country         25600 non-null  object \n",
      " 8   Postcode        24078 non-null  object \n",
      " 9   Phone Number    18739 non-null  object \n",
      " 10  Timezone        25600 non-null  object \n",
      " 11  Longitude       25599 non-null  float64\n",
      " 12  Latitude        25599 non-null  float64\n",
      "dtypes: float64(2), object(11)\n",
      "memory usage: 2.5+ MB\n"
     ]
    }
   ],
   "source": [
    "starbuck_dat.info()"
   ]
  },
  {
   "cell_type": "markdown",
   "metadata": {},
   "source": [
    "The Starbuck dataset contains 25,600 rows, each of which represents a Starbuck store, and 13 columns, each of which is a feature of store. Also, let's skim a first few rows of this dataset."
   ]
  },
  {
   "cell_type": "code",
   "execution_count": 6,
   "metadata": {},
   "outputs": [
    {
     "data": {
      "text/html": [
       "<div>\n",
       "<style scoped>\n",
       "    .dataframe tbody tr th:only-of-type {\n",
       "        vertical-align: middle;\n",
       "    }\n",
       "\n",
       "    .dataframe tbody tr th {\n",
       "        vertical-align: top;\n",
       "    }\n",
       "\n",
       "    .dataframe thead th {\n",
       "        text-align: right;\n",
       "    }\n",
       "</style>\n",
       "<table border=\"1\" class=\"dataframe\">\n",
       "  <thead>\n",
       "    <tr style=\"text-align: right;\">\n",
       "      <th></th>\n",
       "      <th>Brand</th>\n",
       "      <th>Store Number</th>\n",
       "      <th>Store Name</th>\n",
       "      <th>Ownership Type</th>\n",
       "      <th>Street Address</th>\n",
       "      <th>City</th>\n",
       "      <th>State/Province</th>\n",
       "      <th>Country</th>\n",
       "      <th>Postcode</th>\n",
       "      <th>Phone Number</th>\n",
       "      <th>Timezone</th>\n",
       "      <th>Longitude</th>\n",
       "      <th>Latitude</th>\n",
       "    </tr>\n",
       "  </thead>\n",
       "  <tbody>\n",
       "    <tr>\n",
       "      <th>0</th>\n",
       "      <td>Starbucks</td>\n",
       "      <td>47370-257954</td>\n",
       "      <td>Meritxell, 96</td>\n",
       "      <td>Licensed</td>\n",
       "      <td>Av. Meritxell, 96</td>\n",
       "      <td>Andorra la Vella</td>\n",
       "      <td>7</td>\n",
       "      <td>AD</td>\n",
       "      <td>AD500</td>\n",
       "      <td>376818720</td>\n",
       "      <td>GMT+1:00 Europe/Andorra</td>\n",
       "      <td>1.53</td>\n",
       "      <td>42.51</td>\n",
       "    </tr>\n",
       "    <tr>\n",
       "      <th>1</th>\n",
       "      <td>Starbucks</td>\n",
       "      <td>22331-212325</td>\n",
       "      <td>Ajman Drive Thru</td>\n",
       "      <td>Licensed</td>\n",
       "      <td>1 Street 69, Al Jarf</td>\n",
       "      <td>Ajman</td>\n",
       "      <td>AJ</td>\n",
       "      <td>AE</td>\n",
       "      <td>NaN</td>\n",
       "      <td>NaN</td>\n",
       "      <td>GMT+04:00 Asia/Dubai</td>\n",
       "      <td>55.47</td>\n",
       "      <td>25.42</td>\n",
       "    </tr>\n",
       "    <tr>\n",
       "      <th>2</th>\n",
       "      <td>Starbucks</td>\n",
       "      <td>47089-256771</td>\n",
       "      <td>Dana Mall</td>\n",
       "      <td>Licensed</td>\n",
       "      <td>Sheikh Khalifa Bin Zayed St.</td>\n",
       "      <td>Ajman</td>\n",
       "      <td>AJ</td>\n",
       "      <td>AE</td>\n",
       "      <td>NaN</td>\n",
       "      <td>NaN</td>\n",
       "      <td>GMT+04:00 Asia/Dubai</td>\n",
       "      <td>55.47</td>\n",
       "      <td>25.39</td>\n",
       "    </tr>\n",
       "    <tr>\n",
       "      <th>3</th>\n",
       "      <td>Starbucks</td>\n",
       "      <td>22126-218024</td>\n",
       "      <td>Twofour 54</td>\n",
       "      <td>Licensed</td>\n",
       "      <td>Al Salam Street</td>\n",
       "      <td>Abu Dhabi</td>\n",
       "      <td>AZ</td>\n",
       "      <td>AE</td>\n",
       "      <td>NaN</td>\n",
       "      <td>NaN</td>\n",
       "      <td>GMT+04:00 Asia/Dubai</td>\n",
       "      <td>54.38</td>\n",
       "      <td>24.48</td>\n",
       "    </tr>\n",
       "    <tr>\n",
       "      <th>4</th>\n",
       "      <td>Starbucks</td>\n",
       "      <td>17127-178586</td>\n",
       "      <td>Al Ain Tower</td>\n",
       "      <td>Licensed</td>\n",
       "      <td>Khaldiya Area, Abu Dhabi Island</td>\n",
       "      <td>Abu Dhabi</td>\n",
       "      <td>AZ</td>\n",
       "      <td>AE</td>\n",
       "      <td>NaN</td>\n",
       "      <td>NaN</td>\n",
       "      <td>GMT+04:00 Asia/Dubai</td>\n",
       "      <td>54.54</td>\n",
       "      <td>24.51</td>\n",
       "    </tr>\n",
       "  </tbody>\n",
       "</table>\n",
       "</div>"
      ],
      "text/plain": [
       "       Brand  Store Number        Store Name Ownership Type  \\\n",
       "0  Starbucks  47370-257954     Meritxell, 96       Licensed   \n",
       "1  Starbucks  22331-212325  Ajman Drive Thru       Licensed   \n",
       "2  Starbucks  47089-256771         Dana Mall       Licensed   \n",
       "3  Starbucks  22126-218024        Twofour 54       Licensed   \n",
       "4  Starbucks  17127-178586      Al Ain Tower       Licensed   \n",
       "\n",
       "                    Street Address              City State/Province Country  \\\n",
       "0                Av. Meritxell, 96  Andorra la Vella              7      AD   \n",
       "1             1 Street 69, Al Jarf             Ajman             AJ      AE   \n",
       "2     Sheikh Khalifa Bin Zayed St.             Ajman             AJ      AE   \n",
       "3                  Al Salam Street         Abu Dhabi             AZ      AE   \n",
       "4  Khaldiya Area, Abu Dhabi Island         Abu Dhabi             AZ      AE   \n",
       "\n",
       "  Postcode Phone Number                 Timezone  Longitude  Latitude  \n",
       "0    AD500    376818720  GMT+1:00 Europe/Andorra       1.53     42.51  \n",
       "1      NaN          NaN     GMT+04:00 Asia/Dubai      55.47     25.42  \n",
       "2      NaN          NaN     GMT+04:00 Asia/Dubai      55.47     25.39  \n",
       "3      NaN          NaN     GMT+04:00 Asia/Dubai      54.38     24.48  \n",
       "4      NaN          NaN     GMT+04:00 Asia/Dubai      54.54     24.51  "
      ]
     },
     "execution_count": 6,
     "metadata": {},
     "output_type": "execute_result"
    }
   ],
   "source": [
    "starbuck_dat.head()"
   ]
  },
  {
   "cell_type": "markdown",
   "metadata": {},
   "source": [
    "## 3. Data Cleaning"
   ]
  },
  {
   "cell_type": "markdown",
   "metadata": {},
   "source": [
    "Given the nature of simulation, I decided to cover only Costco warehouses and Starbuck stores in the US. Let's filter US-based address from our data sets. Also, due to limited CPU processing power, a sample of 100 Starbuck stores are taken for this analysis."
   ]
  },
  {
   "cell_type": "code",
   "execution_count": 7,
   "metadata": {},
   "outputs": [
    {
     "data": {
      "text/plain": [
       "(543, 37)"
      ]
     },
     "execution_count": 7,
     "metadata": {},
     "output_type": "execute_result"
    }
   ],
   "source": [
    "costco_US = costco_dat[costco_dat['country'] =='US']\n",
    "costco_US.shape"
   ]
  },
  {
   "cell_type": "code",
   "execution_count": 8,
   "metadata": {},
   "outputs": [
    {
     "data": {
      "text/plain": [
       "(13608, 13)"
      ]
     },
     "execution_count": 8,
     "metadata": {},
     "output_type": "execute_result"
    }
   ],
   "source": [
    "starbuck_US = starbuck_dat[starbuck_dat['Country'] == 'US']\n",
    "starbuck_US.shape"
   ]
  },
  {
   "cell_type": "code",
   "execution_count": 9,
   "metadata": {},
   "outputs": [],
   "source": [
    "starbuck_US_100 = starbuck_US.sample(n = 100, random_state = 5)"
   ]
  },
  {
   "cell_type": "markdown",
   "metadata": {},
   "source": [
    "Now let's filter variables necessary for modeling step:"
   ]
  },
  {
   "cell_type": "code",
   "execution_count": 10,
   "metadata": {},
   "outputs": [],
   "source": [
    "costco_US_clean = costco_US.loc[:, ['stlocID', 'latitude', 'longitude']]\n",
    "starbuck_US_clean = starbuck_US_100.loc[:, ['Store Number', 'Latitude', 'Longitude']]"
   ]
  },
  {
   "cell_type": "markdown",
   "metadata": {},
   "source": [
    "## 4. Modeling"
   ]
  },
  {
   "cell_type": "markdown",
   "metadata": {},
   "source": [
    "The algorithm for this optimization problem can be explained as follows: \n",
    "\n",
    "- Use `for` loop to pair each Starbuck store with all Costco warehouses and calculate their associated distance based on their latitude and longitude.\n",
    "- The model paired 100 Starbuck stores with all 543 Costco warehouses, leading to 54,300 pairs. I then sorted this output into ascending order of distance to come up with Costco warehouse that is closest to each Starbuck store, obtaining a final outcome of 100 pairs. \n",
    "- Costco warehouse in each pair was the one selected to take goods and deliver to its associated Starbuck store."
   ]
  },
  {
   "cell_type": "code",
   "execution_count": null,
   "metadata": {},
   "outputs": [],
   "source": [
    "# Construct a dictionary to store results\n",
    "output = {'Starbuck_store_number': [],\n",
    "         'Costco_warehouse_id': [],\n",
    "         'Distance': []}\n",
    "\n",
    "\n",
    "# Use for loop to calculate the distance from each Starbuck store to all Costco warehouses.\n",
    "for starbuck_id in starbuck_US_clean['Store Number']:\n",
    "    for costco_id in costco_US_clean['stlocID']:\n",
    "        starbuck_store = starbuck_US_clean[starbuck_US_clean['Store Number'] == starbuck_id]\n",
    "        costco_warehouse = costco_US_clean[costco_US_clean['stlocID'] == costco_id]\n",
    "\n",
    "        starbuck_store_location = (starbuck_store['Latitude'].values, starbuck_store['Longitude'].values)\n",
    "        costco_warehouse_location = (costco_warehouse['latitude'].values, costco_warehouse['longitude'].values)\n",
    "\n",
    "        dist = distance.distance(starbuck_store_location, costco_warehouse_location).miles\n",
    "\n",
    "        output['Starbuck_store_number'].append(starbuck_id)\n",
    "        output['Costco_warehouse_id'].append(costco_id)\n",
    "        output['Distance'].append(dist)\n",
    "        \n",
    "# Sort the output into ascending order of distance from each Starbuck store to all Costco warehouses, then pick the first row in each subgroup.\n",
    "output_dataframe = pd.DataFrame(output)\n",
    "output_dataframe = output_dataframe.sort_values(by=['Starbuck_store_number','Distance'], ascending = True)\n",
    "final_output = output_dataframe.groupby('Starbuck_store_number').head(1)"
   ]
  },
  {
   "cell_type": "markdown",
   "metadata": {},
   "source": [
    "That took care of modeling. Let's take a look at the first 10 rows and the shape of our final output:"
   ]
  },
  {
   "cell_type": "code",
   "execution_count": null,
   "metadata": {},
   "outputs": [],
   "source": [
    "display(final_output.head(10),\n",
    "        final_output.shape)"
   ]
  },
  {
   "cell_type": "markdown",
   "metadata": {},
   "source": [
    "## 5. Conclusion"
   ]
  },
  {
   "cell_type": "markdown",
   "metadata": {},
   "source": [
    "This is a simulation to build the algorithm for optimization problem. If greater CPU processing power is available, we can input all data of Costco and Starbuck stores into the model to have a holistic approach.    \n",
    "\n",
    "Based on the insights from this analysis, Costco can optimize the delivery to Starbuck stores in terms of distances going forward."
   ]
  }
 ],
 "metadata": {
  "kernelspec": {
   "display_name": "Python 3",
   "language": "python",
   "name": "python3"
  },
  "language_info": {
   "codemirror_mode": {
    "name": "ipython",
    "version": 3
   },
   "file_extension": ".py",
   "mimetype": "text/x-python",
   "name": "python",
   "nbconvert_exporter": "python",
   "pygments_lexer": "ipython3",
   "version": "3.8.3"
  }
 },
 "nbformat": 4,
 "nbformat_minor": 4
}
